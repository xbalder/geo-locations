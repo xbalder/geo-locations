{
 "cells": [
  {
   "cell_type": "code",
   "execution_count": 2,
   "metadata": {},
   "outputs": [
    {
     "name": "stdout",
     "output_type": "stream",
     "text": [
      "New WD: C:\\Users\\vzagolla\\Documents\\GitHub\\geo-locations\n"
     ]
    }
   ],
   "source": [
    "import os\n",
    "import pandas as pd\n",
    "import seaborn as sns\n",
    "from pathlib import Path\n",
    "import numpy as np\n",
    "\n",
    "def set_correct_working_dir(working_dir: str):\n",
    "    current_working_dir = Path(os.getcwd())\n",
    "    if working_dir == current_working_dir.name:\n",
    "        print('WD correct')\n",
    "        return\n",
    "    for directory in current_working_dir.parents:\n",
    "        if working_dir == directory.name:\n",
    "            os.chdir(str(directory.absolute()))\n",
    "            print('New WD:', str(directory.absolute()))\n",
    "            return\n",
    "    raise FileNotFoundError\n",
    "\n",
    "set_correct_working_dir('geo-locations')"
   ]
  },
  {
   "cell_type": "markdown",
   "metadata": {},
   "source": [
    "### Reading in data"
   ]
  },
  {
   "cell_type": "code",
   "execution_count": 15,
   "metadata": {},
   "outputs": [
    {
     "data": {
      "text/html": [
       "<div>\n",
       "<style scoped>\n",
       "    .dataframe tbody tr th:only-of-type {\n",
       "        vertical-align: middle;\n",
       "    }\n",
       "\n",
       "    .dataframe tbody tr th {\n",
       "        vertical-align: top;\n",
       "    }\n",
       "\n",
       "    .dataframe thead th {\n",
       "        text-align: right;\n",
       "    }\n",
       "</style>\n",
       "<table border=\"1\" class=\"dataframe\">\n",
       "  <thead>\n",
       "    <tr style=\"text-align: right;\">\n",
       "      <th></th>\n",
       "      <th>country_code</th>\n",
       "      <th>postal_code</th>\n",
       "      <th>place_name</th>\n",
       "      <th>admin_name_1</th>\n",
       "      <th>admin_code_1</th>\n",
       "      <th>admin_name_2</th>\n",
       "      <th>admin_code_2</th>\n",
       "      <th>admin_name_3</th>\n",
       "      <th>admin_code_3</th>\n",
       "      <th>latitude</th>\n",
       "      <th>longitude</th>\n",
       "      <th>accuracy</th>\n",
       "    </tr>\n",
       "  </thead>\n",
       "  <tbody>\n",
       "    <tr>\n",
       "      <th>0</th>\n",
       "      <td>MX</td>\n",
       "      <td>20000</td>\n",
       "      <td>Zona Centro</td>\n",
       "      <td>Aguascalientes</td>\n",
       "      <td>1</td>\n",
       "      <td>Aguascalientes</td>\n",
       "      <td>1</td>\n",
       "      <td>Aguascalientes</td>\n",
       "      <td>1.0</td>\n",
       "      <td>21.8734</td>\n",
       "      <td>-102.2806</td>\n",
       "      <td>1</td>\n",
       "    </tr>\n",
       "    <tr>\n",
       "      <th>1</th>\n",
       "      <td>MX</td>\n",
       "      <td>20010</td>\n",
       "      <td>San Cayetano</td>\n",
       "      <td>Aguascalientes</td>\n",
       "      <td>1</td>\n",
       "      <td>Aguascalientes</td>\n",
       "      <td>1</td>\n",
       "      <td>Aguascalientes</td>\n",
       "      <td>1.0</td>\n",
       "      <td>21.9644</td>\n",
       "      <td>-102.3192</td>\n",
       "      <td>1</td>\n",
       "    </tr>\n",
       "    <tr>\n",
       "      <th>2</th>\n",
       "      <td>MX</td>\n",
       "      <td>20010</td>\n",
       "      <td>Olivares Santana</td>\n",
       "      <td>Aguascalientes</td>\n",
       "      <td>1</td>\n",
       "      <td>Aguascalientes</td>\n",
       "      <td>1</td>\n",
       "      <td>Aguascalientes</td>\n",
       "      <td>1.0</td>\n",
       "      <td>21.9644</td>\n",
       "      <td>-102.3192</td>\n",
       "      <td>1</td>\n",
       "    </tr>\n",
       "    <tr>\n",
       "      <th>3</th>\n",
       "      <td>MX</td>\n",
       "      <td>20010</td>\n",
       "      <td>Las Brisas</td>\n",
       "      <td>Aguascalientes</td>\n",
       "      <td>1</td>\n",
       "      <td>Aguascalientes</td>\n",
       "      <td>1</td>\n",
       "      <td>Aguascalientes</td>\n",
       "      <td>1.0</td>\n",
       "      <td>21.9644</td>\n",
       "      <td>-102.3192</td>\n",
       "      <td>1</td>\n",
       "    </tr>\n",
       "    <tr>\n",
       "      <th>4</th>\n",
       "      <td>MX</td>\n",
       "      <td>20010</td>\n",
       "      <td>Ramon Romo Franco</td>\n",
       "      <td>Aguascalientes</td>\n",
       "      <td>1</td>\n",
       "      <td>Aguascalientes</td>\n",
       "      <td>1</td>\n",
       "      <td>Aguascalientes</td>\n",
       "      <td>1.0</td>\n",
       "      <td>21.9644</td>\n",
       "      <td>-102.3192</td>\n",
       "      <td>1</td>\n",
       "    </tr>\n",
       "  </tbody>\n",
       "</table>\n",
       "</div>"
      ],
      "text/plain": [
       "  country_code  postal_code         place_name    admin_name_1  admin_code_1  \\\n",
       "0            MX       20000        Zona Centro  Aguascalientes             1   \n",
       "1            MX       20010       San Cayetano  Aguascalientes             1   \n",
       "2            MX       20010   Olivares Santana  Aguascalientes             1   \n",
       "3            MX       20010         Las Brisas  Aguascalientes             1   \n",
       "4            MX       20010  Ramon Romo Franco  Aguascalientes             1   \n",
       "\n",
       "     admin_name_2  admin_code_2    admin_name_3  admin_code_3  latitude  \\\n",
       "0  Aguascalientes             1  Aguascalientes           1.0   21.8734   \n",
       "1  Aguascalientes             1  Aguascalientes           1.0   21.9644   \n",
       "2  Aguascalientes             1  Aguascalientes           1.0   21.9644   \n",
       "3  Aguascalientes             1  Aguascalientes           1.0   21.9644   \n",
       "4  Aguascalientes             1  Aguascalientes           1.0   21.9644   \n",
       "\n",
       "   longitude  accuracy  \n",
       "0  -102.2806         1  \n",
       "1  -102.3192         1  \n",
       "2  -102.3192         1  \n",
       "3  -102.3192         1  \n",
       "4  -102.3192         1  "
      ]
     },
     "metadata": {},
     "output_type": "display_data"
    }
   ],
   "source": [
    "country_code = 'mex'\n",
    "country_path = Path(os.getcwd()) / 'data' / country_code\n",
    "source = country_path / 'source_1' / 'MX.txt'\n",
    "# column description to be found at: https://download.geonames.org/export/zip/\n",
    "geonames_df = pd.read_csv(source, sep='\\t', names=['country_code ', 'postal_code', 'place_name', 'admin_name_1', 'admin_code_1', 'admin_name_2', 'admin_code_2', 'admin_name_3', 'admin_code_3', 'latitude', 'longitude', 'accuracy'], converters={'postal_code': str})\n",
    "display(geonames_df.head())"
   ]
  },
  {
   "cell_type": "markdown",
   "metadata": {},
   "source": [
    "### Combining Data\n",
    "The wanted format is: country_code, npa_plz, town, state, latitude, longitude\n",
    "- country code: ISO 3166, alpha3\n",
    "\n",
    "#### Geonames cleanup"
   ]
  },
  {
   "cell_type": "code",
   "execution_count": 16,
   "metadata": {},
   "outputs": [],
   "source": [
    "df = geonames_df.copy()\n",
    "df.rename(columns={'country_code ': 'country_code', 'admin_name_1': 'region', 'admin_name_2': 'town'}, inplace=True)"
   ]
  },
  {
   "cell_type": "markdown",
   "metadata": {},
   "source": [
    "#### Source specific cleanup\n",
    "Place name doesn't seem to be needed. Information at that level would be too sparse"
   ]
  },
  {
   "cell_type": "code",
   "execution_count": 17,
   "metadata": {},
   "outputs": [],
   "source": [
    "df.loc[(df['region'] == 'Distrito Federal'), 'region'] = df['region'] + ':' + df['admin_name_3']  # Exception for larger cities\n",
    "reduced_df = df[['country_code', 'postal_code', 'town', 'region', 'latitude', 'longitude']].copy()"
   ]
  },
  {
   "cell_type": "markdown",
   "metadata": {},
   "source": [
    "#### Reduce to unique postal codes\n",
    "- Postal codes should be unique (makes data merging MUCH easier)\n",
    "- the lat/long data of duplicate postal_codes is merged by taking the mean"
   ]
  },
  {
   "cell_type": "code",
   "execution_count": 22,
   "metadata": {},
   "outputs": [
    {
     "data": {
      "text/html": [
       "<div>\n",
       "<style scoped>\n",
       "    .dataframe tbody tr th:only-of-type {\n",
       "        vertical-align: middle;\n",
       "    }\n",
       "\n",
       "    .dataframe tbody tr th {\n",
       "        vertical-align: top;\n",
       "    }\n",
       "\n",
       "    .dataframe thead th {\n",
       "        text-align: right;\n",
       "    }\n",
       "</style>\n",
       "<table border=\"1\" class=\"dataframe\">\n",
       "  <thead>\n",
       "    <tr style=\"text-align: right;\">\n",
       "      <th></th>\n",
       "      <th>country_code</th>\n",
       "      <th>postal_code</th>\n",
       "      <th>town</th>\n",
       "      <th>region</th>\n",
       "      <th>latitude</th>\n",
       "      <th>longitude</th>\n",
       "    </tr>\n",
       "  </thead>\n",
       "  <tbody>\n",
       "    <tr>\n",
       "      <th>0</th>\n",
       "      <td>mex</td>\n",
       "      <td>01000</td>\n",
       "      <td>Álvaro Obregón</td>\n",
       "      <td>Distrito Federal:Ciudad de México</td>\n",
       "      <td>19.3587</td>\n",
       "      <td>-99.2033</td>\n",
       "    </tr>\n",
       "    <tr>\n",
       "      <th>1</th>\n",
       "      <td>mex</td>\n",
       "      <td>01010</td>\n",
       "      <td>Álvaro Obregón</td>\n",
       "      <td>Distrito Federal:Ciudad de México</td>\n",
       "      <td>19.3569</td>\n",
       "      <td>-99.2100</td>\n",
       "    </tr>\n",
       "    <tr>\n",
       "      <th>2</th>\n",
       "      <td>mex</td>\n",
       "      <td>01020</td>\n",
       "      <td>Álvaro Obregón</td>\n",
       "      <td>Distrito Federal:Ciudad de México</td>\n",
       "      <td>19.5161</td>\n",
       "      <td>-99.1419</td>\n",
       "    </tr>\n",
       "    <tr>\n",
       "      <th>3</th>\n",
       "      <td>mex</td>\n",
       "      <td>01029</td>\n",
       "      <td>Álvaro Obregón</td>\n",
       "      <td>Distrito Federal:Ciudad de México</td>\n",
       "      <td>19.3362</td>\n",
       "      <td>-99.2468</td>\n",
       "    </tr>\n",
       "    <tr>\n",
       "      <th>4</th>\n",
       "      <td>mex</td>\n",
       "      <td>01030</td>\n",
       "      <td>Álvaro Obregón</td>\n",
       "      <td>Distrito Federal:Ciudad de México</td>\n",
       "      <td>19.3567</td>\n",
       "      <td>-99.1784</td>\n",
       "    </tr>\n",
       "  </tbody>\n",
       "</table>\n",
       "</div>"
      ],
      "text/plain": [
       "  country_code postal_code            town                             region  \\\n",
       "0          mex       01000  Álvaro Obregón  Distrito Federal:Ciudad de México   \n",
       "1          mex       01010  Álvaro Obregón  Distrito Federal:Ciudad de México   \n",
       "2          mex       01020  Álvaro Obregón  Distrito Federal:Ciudad de México   \n",
       "3          mex       01029  Álvaro Obregón  Distrito Federal:Ciudad de México   \n",
       "4          mex       01030  Álvaro Obregón  Distrito Federal:Ciudad de México   \n",
       "\n",
       "   latitude  longitude  \n",
       "0   19.3587   -99.2033  \n",
       "1   19.3569   -99.2100  \n",
       "2   19.5161   -99.1419  \n",
       "3   19.3362   -99.2468  \n",
       "4   19.3567   -99.1784  "
      ]
     },
     "metadata": {},
     "output_type": "display_data"
    }
   ],
   "source": [
    "reduced_df = reduced_df.groupby('postal_code').agg({'town': lambda col: ','.join(col),\n",
    "                                                    'region': lambda col: ','.join(col), \n",
    "                                                    'latitude': 'mean',\n",
    "                                                    'longitude': 'mean'}).reset_index()\n",
    "reduced_df['town'] = reduced_df['town'].apply(lambda x: ';'.join(list(set(x.split(',')))) if ',' in x else x)\n",
    "reduced_df['region'] = reduced_df['region'].apply(lambda x: ';'.join(list(set(x.split(',')))) if ',' in x else x)\n",
    "reduced_df.reset_index(inplace=True, drop=True)\n",
    "reduced_df.sort_values('postal_code', inplace=True)\n",
    "reduced_df.insert(loc=0, column='country_code', value=country_code)\n",
    "reduced_df = reduced_df.round({'latitude': 4, 'longitude': 4})\n",
    "display(reduced_df.head())"
   ]
  },
  {
   "cell_type": "markdown",
   "metadata": {},
   "source": [
    "### Writing file"
   ]
  },
  {
   "cell_type": "code",
   "execution_count": 23,
   "metadata": {},
   "outputs": [],
   "source": [
    "file_path = country_path / '_'.join([country_code, 'geocoding.csv'])\n",
    "reduced_df.to_csv(file_path, index=False)"
   ]
  },
  {
   "cell_type": "code",
   "execution_count": null,
   "metadata": {},
   "outputs": [],
   "source": []
  }
 ],
 "metadata": {
  "kernelspec": {
   "display_name": "Python 3",
   "language": "python",
   "name": "python3"
  },
  "language_info": {
   "codemirror_mode": {
    "name": "ipython",
    "version": 3
   },
   "file_extension": ".py",
   "mimetype": "text/x-python",
   "name": "python",
   "nbconvert_exporter": "python",
   "pygments_lexer": "ipython3",
   "version": "3.7.6"
  }
 },
 "nbformat": 4,
 "nbformat_minor": 4
}
