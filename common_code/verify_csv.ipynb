{
 "cells": [
  {
   "cell_type": "code",
   "execution_count": 43,
   "metadata": {},
   "outputs": [
    {
     "name": "stdout",
     "output_type": "stream",
     "text": [
      "WD correct\n"
     ]
    }
   ],
   "source": [
    "import os\n",
    "import pandas as pd\n",
    "import seaborn as sns\n",
    "from pathlib import Path\n",
    "import numpy as np\n",
    "\n",
    "def set_correct_working_dir(working_dir: str):\n",
    "    current_working_dir = Path(os.getcwd())\n",
    "    if working_dir == current_working_dir.name:\n",
    "        print('WD correct')\n",
    "        return\n",
    "    for directory in current_working_dir.parents:\n",
    "        if working_dir == directory.name:\n",
    "            os.chdir(str(directory.absolute()))\n",
    "            print('New WD:', str(directory.absolute()))\n",
    "            return\n",
    "    raise FileNotFoundError\n",
    "\n",
    "set_correct_working_dir('geo-locations')"
   ]
  },
  {
   "cell_type": "markdown",
   "metadata": {},
   "source": [
    "# Specify country\n",
    "specifiy the 3letter country code below and run the 3 cells"
   ]
  },
  {
   "cell_type": "code",
   "execution_count": 44,
   "metadata": {},
   "outputs": [],
   "source": [
    "country = 'che'"
   ]
  },
  {
   "cell_type": "code",
   "execution_count": 45,
   "metadata": {},
   "outputs": [
    {
     "data": {
      "text/html": [
       "<div>\n",
       "<style scoped>\n",
       "    .dataframe tbody tr th:only-of-type {\n",
       "        vertical-align: middle;\n",
       "    }\n",
       "\n",
       "    .dataframe tbody tr th {\n",
       "        vertical-align: top;\n",
       "    }\n",
       "\n",
       "    .dataframe thead th {\n",
       "        text-align: right;\n",
       "    }\n",
       "</style>\n",
       "<table border=\"1\" class=\"dataframe\">\n",
       "  <thead>\n",
       "    <tr style=\"text-align: right;\">\n",
       "      <th></th>\n",
       "      <th>country_code</th>\n",
       "      <th>postal_code</th>\n",
       "      <th>latitude</th>\n",
       "      <th>longitude</th>\n",
       "      <th>region_id</th>\n",
       "    </tr>\n",
       "  </thead>\n",
       "  <tbody>\n",
       "    <tr>\n",
       "      <th>0</th>\n",
       "      <td>mex</td>\n",
       "      <td>1000</td>\n",
       "      <td>19.3587</td>\n",
       "      <td>-99.2033</td>\n",
       "      <td>Distrito Federal Ciudad de México::Álvaro Obre...</td>\n",
       "    </tr>\n",
       "    <tr>\n",
       "      <th>1</th>\n",
       "      <td>mex</td>\n",
       "      <td>1010</td>\n",
       "      <td>19.3569</td>\n",
       "      <td>-99.2100</td>\n",
       "      <td>Distrito Federal Ciudad de México::Álvaro Obre...</td>\n",
       "    </tr>\n",
       "    <tr>\n",
       "      <th>2</th>\n",
       "      <td>mex</td>\n",
       "      <td>1020</td>\n",
       "      <td>19.5161</td>\n",
       "      <td>-99.1419</td>\n",
       "      <td>Distrito Federal Ciudad de México::Álvaro Obre...</td>\n",
       "    </tr>\n",
       "    <tr>\n",
       "      <th>3</th>\n",
       "      <td>mex</td>\n",
       "      <td>1029</td>\n",
       "      <td>19.3362</td>\n",
       "      <td>-99.2468</td>\n",
       "      <td>Distrito Federal Ciudad de México::Álvaro Obre...</td>\n",
       "    </tr>\n",
       "    <tr>\n",
       "      <th>4</th>\n",
       "      <td>mex</td>\n",
       "      <td>1030</td>\n",
       "      <td>19.3567</td>\n",
       "      <td>-99.1784</td>\n",
       "      <td>Distrito Federal Ciudad de México::Álvaro Obre...</td>\n",
       "    </tr>\n",
       "  </tbody>\n",
       "</table>\n",
       "</div>"
      ],
      "text/plain": [
       "  country_code  postal_code  latitude  longitude  \\\n",
       "0          mex         1000   19.3587   -99.2033   \n",
       "1          mex         1010   19.3569   -99.2100   \n",
       "2          mex         1020   19.5161   -99.1419   \n",
       "3          mex         1029   19.3362   -99.2468   \n",
       "4          mex         1030   19.3567   -99.1784   \n",
       "\n",
       "                                           region_id  \n",
       "0  Distrito Federal Ciudad de México::Álvaro Obre...  \n",
       "1  Distrito Federal Ciudad de México::Álvaro Obre...  \n",
       "2  Distrito Federal Ciudad de México::Álvaro Obre...  \n",
       "3  Distrito Federal Ciudad de México::Álvaro Obre...  \n",
       "4  Distrito Federal Ciudad de México::Álvaro Obre...  "
      ]
     },
     "metadata": {},
     "output_type": "display_data"
    }
   ],
   "source": [
    "file_path = Path(os.getcwd()) / 'data' / country / '_'.join([country, 'geocoding.csv'])\n",
    "# file_path = Path(os.getcwd()) / 'data' / country / 'ita.csv'\n",
    "geocoding_df = pd.read_csv(file_path)\n",
    "# geocoding_df = pd.read_csv(file_path, keep_default_na=False,na_values=['NaN'])\n",
    "display(geocoding_df.head())"
   ]
  },
  {
   "cell_type": "code",
   "execution_count": 46,
   "metadata": {},
   "outputs": [],
   "source": [
    "col_list = ['country_code', 'postal_code', 'latitude', 'longitude', 'region_id']\n",
    "# fill all empty strings\n",
    "geocoding_df.replace('', np.nan, inplace=True)\n",
    "\n",
    "# verify column names and order\n",
    "assert list(geocoding_df.columns) == col_list\n",
    "\n",
    "# verify that there are no NaNs in the DataFrame\n",
    "for col in col_list:\n",
    "    assert geocoding_df[geocoding_df[col].isnull()].empty\n",
    "\n",
    "# verify no duplicates in postal_code\n",
    "assert geocoding_df[geocoding_df.duplicated('postal_code')].empty\n",
    "\n",
    "# verify country_code is only single value\n",
    "assert len(geocoding_df['country_code'].unique()) == 1\n",
    "\n",
    "# verify postal_code is int\n",
    "assert geocoding_df['postal_code'].dtypes == np.dtype('int64')\n",
    "\n",
    "# verify latitude and longitude are float\n",
    "assert geocoding_df['latitude'].dtypes == np.dtype('float64')\n",
    "assert geocoding_df['longitude'].dtypes == np.dtype('float64')\n",
    "\n",
    "# verify that only the latest can contain\n",
    "df = geocoding_df['region_id'].str.split('::').str[::-1].str.join('::').str.split('::', expand=True)\n",
    "for col in df.loc[:, 1:].columns:\n",
    "    assert not any(df.loc[:, 1:][col].str.contains('\\|\\|'))"
   ]
  },
  {
   "cell_type": "code",
   "execution_count": 61,
   "metadata": {},
   "outputs": [
    {
     "ename": "AssertionError",
     "evalue": "",
     "output_type": "error",
     "traceback": [
      "\u001b[1;31m---------------------------------------------------------------------------\u001b[0m",
      "\u001b[1;31mAssertionError\u001b[0m                            Traceback (most recent call last)",
      "\u001b[1;32m<ipython-input-61-4db41897b0e4>\u001b[0m in \u001b[0;36m<module>\u001b[1;34m\u001b[0m\n\u001b[0;32m      1\u001b[0m \u001b[0mdf\u001b[0m \u001b[1;33m=\u001b[0m \u001b[0mgeocoding_df\u001b[0m\u001b[1;33m[\u001b[0m\u001b[1;34m'region_id'\u001b[0m\u001b[1;33m]\u001b[0m\u001b[1;33m.\u001b[0m\u001b[0mstr\u001b[0m\u001b[1;33m.\u001b[0m\u001b[0msplit\u001b[0m\u001b[1;33m(\u001b[0m\u001b[1;34m'::'\u001b[0m\u001b[1;33m)\u001b[0m\u001b[1;33m.\u001b[0m\u001b[0mstr\u001b[0m\u001b[1;33m[\u001b[0m\u001b[1;33m:\u001b[0m\u001b[1;33m:\u001b[0m\u001b[1;33m-\u001b[0m\u001b[1;36m1\u001b[0m\u001b[1;33m]\u001b[0m\u001b[1;33m.\u001b[0m\u001b[0mstr\u001b[0m\u001b[1;33m.\u001b[0m\u001b[0mjoin\u001b[0m\u001b[1;33m(\u001b[0m\u001b[1;34m'::'\u001b[0m\u001b[1;33m)\u001b[0m\u001b[1;33m.\u001b[0m\u001b[0mstr\u001b[0m\u001b[1;33m.\u001b[0m\u001b[0msplit\u001b[0m\u001b[1;33m(\u001b[0m\u001b[1;34m'::'\u001b[0m\u001b[1;33m,\u001b[0m \u001b[0mexpand\u001b[0m\u001b[1;33m=\u001b[0m\u001b[1;32mTrue\u001b[0m\u001b[1;33m)\u001b[0m\u001b[1;33m\u001b[0m\u001b[1;33m\u001b[0m\u001b[0m\n\u001b[0;32m      2\u001b[0m \u001b[1;32mfor\u001b[0m \u001b[0mcol\u001b[0m \u001b[1;32min\u001b[0m \u001b[0mdf\u001b[0m\u001b[1;33m.\u001b[0m\u001b[0mloc\u001b[0m\u001b[1;33m[\u001b[0m\u001b[1;33m:\u001b[0m\u001b[1;33m,\u001b[0m \u001b[1;36m1\u001b[0m\u001b[1;33m:\u001b[0m\u001b[1;33m]\u001b[0m\u001b[1;33m.\u001b[0m\u001b[0mcolumns\u001b[0m\u001b[1;33m:\u001b[0m\u001b[1;33m\u001b[0m\u001b[1;33m\u001b[0m\u001b[0m\n\u001b[1;32m----> 3\u001b[1;33m     \u001b[1;32massert\u001b[0m \u001b[1;32mnot\u001b[0m \u001b[0many\u001b[0m\u001b[1;33m(\u001b[0m\u001b[0mdf\u001b[0m\u001b[1;33m.\u001b[0m\u001b[0mloc\u001b[0m\u001b[1;33m[\u001b[0m\u001b[1;33m:\u001b[0m\u001b[1;33m,\u001b[0m \u001b[1;36m1\u001b[0m\u001b[1;33m:\u001b[0m\u001b[1;33m]\u001b[0m\u001b[1;33m[\u001b[0m\u001b[0mcol\u001b[0m\u001b[1;33m]\u001b[0m\u001b[1;33m.\u001b[0m\u001b[0mstr\u001b[0m\u001b[1;33m.\u001b[0m\u001b[0mcontains\u001b[0m\u001b[1;33m(\u001b[0m\u001b[1;34m'Mex'\u001b[0m\u001b[1;33m)\u001b[0m\u001b[1;33m)\u001b[0m\u001b[1;33m\u001b[0m\u001b[1;33m\u001b[0m\u001b[0m\n\u001b[0m",
      "\u001b[1;31mAssertionError\u001b[0m: "
     ]
    }
   ],
   "source": []
  },
  {
   "cell_type": "code",
   "execution_count": null,
   "metadata": {},
   "outputs": [],
   "source": []
  }
 ],
 "metadata": {
  "kernelspec": {
   "display_name": "Python 3",
   "language": "python",
   "name": "python3"
  },
  "language_info": {
   "codemirror_mode": {
    "name": "ipython",
    "version": 3
   },
   "file_extension": ".py",
   "mimetype": "text/x-python",
   "name": "python",
   "nbconvert_exporter": "python",
   "pygments_lexer": "ipython3",
   "version": "3.7.6"
  }
 },
 "nbformat": 4,
 "nbformat_minor": 4
}
